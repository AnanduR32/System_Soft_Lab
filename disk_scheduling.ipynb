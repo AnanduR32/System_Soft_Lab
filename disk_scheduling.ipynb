{
 "cells": [
  {
   "cell_type": "code",
   "execution_count": 11,
   "metadata": {},
   "outputs": [
    {
     "name": "stdout",
     "output_type": "stream",
     "text": [
      "Enter the number of accesses3\n",
      "Initialize sequence : \n",
      "10\n",
      "4\n",
      "9\n",
      "Enter the header postion : 5\n",
      "Enter your choice : \n",
      "1.FCFS \n",
      "2.SSTF \n",
      "3.SCAN2\n"
     ]
    },
    {
     "data": {
      "text/plain": [
       "<__main__.disk_schd at 0x1fa0c288160>"
      ]
     },
     "metadata": {},
     "output_type": "display_data"
    },
    {
     "name": "stdout",
     "output_type": "stream",
     "text": [
      "\n",
      "\tSeek Time =  [4.]\n"
     ]
    }
   ],
   "source": [
    "import numpy \n",
    "class disk_schd():\n",
    "    def __init__(self):\n",
    "        self.access=int(input(\"Enter the number of accesses\"))\n",
    "        self.seek=0\n",
    "        self.min_seek=0\n",
    "        self.access_seq()\n",
    "        self.main()\n",
    "        self.display()\n",
    "    def access_seq(self):\n",
    "        print(\"Initialize sequence : \")\n",
    "        self.access_seq=numpy.empty([10,1])\n",
    "        for i in range (0,self.access): \n",
    "            self.access_seq[i]=int(input())\n",
    "        self.head=int(input(\"Enter the header postion : \"))\n",
    "    def incr(self):\n",
    "        self.access_seq[++self.access]=0\n",
    "        self.access_seq[++self.access]=200;\n",
    "    def sort(self):\n",
    "        for i in range(0,self.access):\n",
    "            for j in range(i+1,self.access):\n",
    "                if(self.access_seq[i]>self.access_seq[j]):\n",
    "                    temp=self.access_seq[i];\n",
    "                    self.access_seq[i]=self.access_seq[j];\n",
    "                    self.access_seq[j]=temp\n",
    "    def fcfs(self):\n",
    "        for i in range(0,self.access):\n",
    "            self.seek+=abs(self.head-self.access_seq[i])\n",
    "            self.head=self.access_seq[i]\n",
    "    def sstf(self):\n",
    "        x=0\n",
    "        for i in range(0,self.access):\n",
    "            self.min_seek=abs(self.head-self.access_seq[i])\n",
    "            for j in range(i+1,self.access):\n",
    "                if(abs(self.head-self.access_seq[j])):\n",
    "                    self.min_seek=abs(self.head-self.access_seq[j])\n",
    "                    x=j\n",
    "            self.seek+=abs(self.head-self.access_seq[x]) \n",
    "            self.head=self.access_seq[x]\n",
    "            temp=self.access_seq[i]\n",
    "            self.access_seq[i]=self.access_seq[x]\n",
    "            self.access_seq[x]=temp\n",
    "    def scan(self):\n",
    "        self.incr()\n",
    "        x=0\n",
    "        for i in range(0,self.access):\n",
    "            if(self.access_seq[i]<self.head):\n",
    "                x=i\n",
    "                break;\n",
    "        for i in range(x,self.access):\n",
    "            self.seek+=abs(self.head-self.access_seq[i])\n",
    "            self.head=self.access_seq[i];\n",
    "    def main(self):\n",
    "        i=0\n",
    "        while(i<1):\n",
    "            choice=int(input(\"\"\"Enter your choice : \\n1.FCFS \\n2.SSTF \\n3.SCAN\"\"\"))\n",
    "            if(choice==1):\n",
    "                self.fcfs()\n",
    "            elif(choice==2):\n",
    "                self.sstf()\n",
    "            elif(choice==3):\n",
    "                self.scan()\n",
    "            else:\n",
    "                print(\"Invalid Entry\")\n",
    "            i+=1\n",
    "        display(self)\n",
    "    def display(self):\n",
    "        print(\"\\n\\tSeek Time = \",self.seek)     \n",
    "disk_SCHD=disk_schd()   \n",
    "           \n"
   ]
  },
  {
   "cell_type": "code",
   "execution_count": null,
   "metadata": {},
   "outputs": [],
   "source": []
  }
 ],
 "metadata": {
  "kernelspec": {
   "display_name": "Python 3",
   "language": "python",
   "name": "python3"
  }
 },
 "nbformat": 4,
 "nbformat_minor": 2
}
