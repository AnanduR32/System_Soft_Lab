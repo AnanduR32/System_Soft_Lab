{
 "cells": [
  {
   "cell_type": "code",
   "execution_count": 12,
   "metadata": {},
   "outputs": [
    {
     "name": "stdout",
     "output_type": "stream",
     "text": [
      "Enter the number of accesses3\n",
      "Initialize sequence : \n",
      "10 9 4\n"
     ]
    },
    {
     "ename": "ValueError",
     "evalue": "invalid literal for int() with base 10: '10 9 4'",
     "output_type": "error",
     "traceback": [
      "\u001b[1;31m---------------------------------------------------------------------------\u001b[0m",
      "\u001b[1;31mValueError\u001b[0m                                Traceback (most recent call last)",
      "\u001b[1;32m<ipython-input-12-d3a58556b07e>\u001b[0m in \u001b[0;36m<module>\u001b[1;34m\u001b[0m\n\u001b[0;32m     66\u001b[0m     \u001b[1;32mdef\u001b[0m \u001b[0mdisplay\u001b[0m\u001b[1;33m(\u001b[0m\u001b[0mself\u001b[0m\u001b[1;33m)\u001b[0m\u001b[1;33m:\u001b[0m\u001b[1;33m\u001b[0m\u001b[1;33m\u001b[0m\u001b[0m\n\u001b[0;32m     67\u001b[0m         \u001b[0mprint\u001b[0m\u001b[1;33m(\u001b[0m\u001b[1;34m\"\\n\\tSeek Time = \"\u001b[0m\u001b[1;33m,\u001b[0m\u001b[0mself\u001b[0m\u001b[1;33m.\u001b[0m\u001b[0mseek\u001b[0m\u001b[1;33m)\u001b[0m\u001b[1;33m\u001b[0m\u001b[1;33m\u001b[0m\u001b[0m\n\u001b[1;32m---> 68\u001b[1;33m \u001b[0mdisk_SCHD\u001b[0m\u001b[1;33m=\u001b[0m\u001b[0mdisk_schd\u001b[0m\u001b[1;33m(\u001b[0m\u001b[1;33m)\u001b[0m\u001b[1;33m\u001b[0m\u001b[1;33m\u001b[0m\u001b[0m\n\u001b[0m\u001b[0;32m     69\u001b[0m \u001b[1;33m\u001b[0m\u001b[0m\n",
      "\u001b[1;32m<ipython-input-12-d3a58556b07e>\u001b[0m in \u001b[0;36m__init__\u001b[1;34m(self)\u001b[0m\n\u001b[0;32m      5\u001b[0m         \u001b[0mself\u001b[0m\u001b[1;33m.\u001b[0m\u001b[0mseek\u001b[0m\u001b[1;33m=\u001b[0m\u001b[1;36m0\u001b[0m\u001b[1;33m\u001b[0m\u001b[1;33m\u001b[0m\u001b[0m\n\u001b[0;32m      6\u001b[0m         \u001b[0mself\u001b[0m\u001b[1;33m.\u001b[0m\u001b[0mmin_seek\u001b[0m\u001b[1;33m=\u001b[0m\u001b[1;36m0\u001b[0m\u001b[1;33m\u001b[0m\u001b[1;33m\u001b[0m\u001b[0m\n\u001b[1;32m----> 7\u001b[1;33m         \u001b[0mself\u001b[0m\u001b[1;33m.\u001b[0m\u001b[0maccess_seq\u001b[0m\u001b[1;33m(\u001b[0m\u001b[1;33m)\u001b[0m\u001b[1;33m\u001b[0m\u001b[1;33m\u001b[0m\u001b[0m\n\u001b[0m\u001b[0;32m      8\u001b[0m         \u001b[0mself\u001b[0m\u001b[1;33m.\u001b[0m\u001b[0mmain\u001b[0m\u001b[1;33m(\u001b[0m\u001b[1;33m)\u001b[0m\u001b[1;33m\u001b[0m\u001b[1;33m\u001b[0m\u001b[0m\n\u001b[0;32m      9\u001b[0m         \u001b[0mself\u001b[0m\u001b[1;33m.\u001b[0m\u001b[0mdisplay\u001b[0m\u001b[1;33m(\u001b[0m\u001b[1;33m)\u001b[0m\u001b[1;33m\u001b[0m\u001b[1;33m\u001b[0m\u001b[0m\n",
      "\u001b[1;32m<ipython-input-12-d3a58556b07e>\u001b[0m in \u001b[0;36maccess_seq\u001b[1;34m(self)\u001b[0m\n\u001b[0;32m     11\u001b[0m         \u001b[0mprint\u001b[0m\u001b[1;33m(\u001b[0m\u001b[1;34m\"Initialize sequence : \"\u001b[0m\u001b[1;33m)\u001b[0m\u001b[1;33m\u001b[0m\u001b[1;33m\u001b[0m\u001b[0m\n\u001b[0;32m     12\u001b[0m         \u001b[0mself\u001b[0m\u001b[1;33m.\u001b[0m\u001b[0maccess_seq\u001b[0m\u001b[1;33m=\u001b[0m\u001b[0mnumpy\u001b[0m\u001b[1;33m.\u001b[0m\u001b[0mempty\u001b[0m\u001b[1;33m(\u001b[0m\u001b[1;33m[\u001b[0m\u001b[1;36m10\u001b[0m\u001b[1;33m,\u001b[0m\u001b[1;36m1\u001b[0m\u001b[1;33m]\u001b[0m\u001b[1;33m)\u001b[0m\u001b[1;33m\u001b[0m\u001b[1;33m\u001b[0m\u001b[0m\n\u001b[1;32m---> 13\u001b[1;33m         \u001b[0mself\u001b[0m\u001b[1;33m.\u001b[0m\u001b[0maccess_seq\u001b[0m\u001b[1;33m[\u001b[0m\u001b[0mi\u001b[0m\u001b[1;33m]\u001b[0m\u001b[1;33m=\u001b[0m\u001b[0mint\u001b[0m\u001b[1;33m(\u001b[0m\u001b[0minput\u001b[0m\u001b[1;33m(\u001b[0m\u001b[1;33m)\u001b[0m\u001b[1;33m)\u001b[0m\u001b[1;33m\u001b[0m\u001b[1;33m\u001b[0m\u001b[0m\n\u001b[0m\u001b[0;32m     14\u001b[0m         \u001b[0mself\u001b[0m\u001b[1;33m.\u001b[0m\u001b[0mhead\u001b[0m\u001b[1;33m=\u001b[0m\u001b[0mint\u001b[0m\u001b[1;33m(\u001b[0m\u001b[0minput\u001b[0m\u001b[1;33m(\u001b[0m\u001b[1;34m\"Enter the header postion : \"\u001b[0m\u001b[1;33m)\u001b[0m\u001b[1;33m)\u001b[0m\u001b[1;33m\u001b[0m\u001b[1;33m\u001b[0m\u001b[0m\n\u001b[0;32m     15\u001b[0m     \u001b[1;32mdef\u001b[0m \u001b[0mincr\u001b[0m\u001b[1;33m(\u001b[0m\u001b[0mself\u001b[0m\u001b[1;33m)\u001b[0m\u001b[1;33m:\u001b[0m\u001b[1;33m\u001b[0m\u001b[1;33m\u001b[0m\u001b[0m\n",
      "\u001b[1;31mValueError\u001b[0m: invalid literal for int() with base 10: '10 9 4'"
     ]
    }
   ],
   "source": [
    "import numpy \n",
    "class disk_schd():\n",
    "    def __init__(self):\n",
    "        self.access=int(input(\"Enter the number of accesses\"))\n",
    "        self.seek=0\n",
    "        self.min_seek=0\n",
    "        self.access_seq()\n",
    "        self.main()\n",
    "        self.display()\n",
    "    def access_seq(self):\n",
    "        print(\"Initialize sequence : \")\n",
    "        self.access_seq=numpy.empty([10,1])\n",
    "        for i in range (0,self.access): \n",
    "            self.access_seq[i]=int(input())\n",
    "        self.head=int(input(\"Enter the header postion : \"))\n",
    "    def incr(self):\n",
    "        self.access_seq[++self.access]=0\n",
    "        self.access_seq[++self.access]=200;\n",
    "    def sort(self):\n",
    "        for i in range(0,self.access):\n",
    "            for j in range(i+1,self.access):\n",
    "                if(self.access_seq[i]>self.access_seq[j]):\n",
    "                    temp=self.access_seq[i];\n",
    "                    self.access_seq[i]=self.access_seq[j];\n",
    "                    self.access_seq[j]=temp\n",
    "    def fcfs(self):\n",
    "        for i in range(0,self.access):\n",
    "            self.seek+=abs(self.head-self.access_seq[i])\n",
    "            self.head=self.access_seq[i]\n",
    "    def sstf(self):\n",
    "        x=0\n",
    "        for i in range(0,self.access):\n",
    "            self.min_seek=abs(self.head-self.access_seq[i])\n",
    "            for j in range(i+1,self.access):\n",
    "                if(abs(self.head-self.access_seq[j])):\n",
    "                    self.min_seek=abs(self.head-self.access_seq[j])\n",
    "                    x=j\n",
    "            self.seek+=abs(self.head-self.access_seq[x]) \n",
    "            self.head=self.access_seq[x]\n",
    "            temp=self.access_seq[i]\n",
    "            self.access_seq[i]=self.access_seq[x]\n",
    "            self.access_seq[x]=temp\n",
    "    def scan(self):\n",
    "        self.incr()\n",
    "        x=0\n",
    "        for i in range(0,self.access):\n",
    "            if(self.access_seq[i]<self.head):\n",
    "                x=i\n",
    "                break;\n",
    "        for i in range(x,self.access):\n",
    "            self.seek+=abs(self.head-self.access_seq[i])\n",
    "            self.head=self.access_seq[i];\n",
    "    def main(self):\n",
    "        i=0\n",
    "        while(i<1):\n",
    "            choice=int(input(\"\"\"Enter your choice : \\n1.FCFS \\n2.SSTF \\n3.SCAN\"\"\"))\n",
    "            if(choice==1):\n",
    "                self.fcfs()\n",
    "            elif(choice==2):\n",
    "                self.sstf()\n",
    "            elif(choice==3):\n",
    "                self.scan()\n",
    "            else:\n",
    "                print(\"Invalid Entry\")\n",
    "            i+=1\n",
    "        display(self)\n",
    "    def display(self):\n",
    "        print(\"\\n\\tSeek Time = \",self.seek)     \n",
    "disk_SCHD=disk_schd()   \n",
    "           \n"
   ]
  },
  {
   "cell_type": "code",
   "execution_count": null,
   "metadata": {},
   "outputs": [],
   "source": []
  }
 ],
 "metadata": {
  "kernelspec": {
   "display_name": "Python 3",
   "language": "python",
   "name": "python3"
  }
 },
 "nbformat": 4,
 "nbformat_minor": 2
}
