{
 "cells": [
  {
   "cell_type": "code",
   "execution_count": 1,
   "metadata": {},
   "outputs": [
    {
     "name": "stdout",
     "output_type": "stream",
     "text": [
      "Enter the number of accesses3\n",
      "Initialize sequence : \n",
      "[1.19293511e-307]2\n",
      "[1.33360338e+241]3\n",
      "[1.7625297e-310]4\n",
      "Enter the header postion : 3\n"
     ]
    }
   ],
   "source": [
    "import numpy \n",
    "class disk_schd():\n",
    "    def __init__(self):\n",
    "        self.access=int(input(\"Enter the number of accesses\"))\n",
    "        print(\"Initialize sequence : \")\n",
    "        self.access_seq=numpy.empty([10,1])\n",
    "        for i in range (0,self.access): \n",
    "            self.access_seq[i]=int(input())\n",
    "        head=int(input(\"Enter the header postion : \"))\n",
    "        seek=0\n",
    "    def main():\n",
    "        i=0\n",
    "        while(i<1):\n",
    "            choice=int(input(\"\"\"Enter your choice : 1.FCFS \\n 2.SSTF \\n 3.SCAN\"\"\"))\n",
    "            if(choice==1):\n",
    "                result=fcfs()\n",
    "            elif(choice==2):\n",
    "                result=sstf()\n",
    "            elif(choice==3):\n",
    "                result=scan()\n",
    "            else:\n",
    "                print(\"Invalid Entry\")\n",
    "            i+=1\n",
    "        print(result)\n",
    "    def scan():\n",
    "        access=incr(access)\n",
    "        for i in range(0,access):\n",
    "            if(access_seq[i]<head):\n",
    "                x=i\n",
    "                break;\n",
    "        for i in range(x,access):\n",
    "            seek+=abs(head-access_seq[i])\n",
    "            head=access_seq[i];\n",
    "        return seek;\n",
    "    def display(self):\n",
    "        print(\"\\n\\tSeek Time = \"+self.result)\n",
    "    def fcfs():\n",
    "        seek=0\n",
    "disk_SCHD=disk_schd()   \n",
    "            \n"
   ]
  },
  {
   "cell_type": "code",
   "execution_count": null,
   "metadata": {},
   "outputs": [],
   "source": []
  }
 ],
 "metadata": {
  "kernelspec": {
   "display_name": "Python 3",
   "language": "python",
   "name": "python3"
  },
  "language_info": {
   "codemirror_mode": {
    "name": "ipython",
    "version": 3
   },
   "file_extension": ".py",
   "mimetype": "text/x-python",
   "name": "python",
   "nbconvert_exporter": "python",
   "pygments_lexer": "ipython3",
   "version": "3.7.3"
  }
 },
 "nbformat": 4,
 "nbformat_minor": 2
}
